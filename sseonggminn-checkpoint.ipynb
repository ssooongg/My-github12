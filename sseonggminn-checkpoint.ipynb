{
 "cells": [
  {
   "cell_type": "code",
   "execution_count": 2,
   "id": "a0c890e6",
   "metadata": {},
   "outputs": [
    {
     "name": "stdout",
     "output_type": "stream",
     "text": [
      "좋아하는 과일의 이름을 입력하시오:사과\n",
      "좋아하는 과일의 이름을 입력하시오:키위\n",
      "좋아하는 과일의 이름을 입력하시오:바나나\n",
      "과일의 이름을 입력하시오: 바나나\n",
      "이 과일은 당신이 좋아하는 과일입니다.\n"
     ]
    }
   ],
   "source": [
    "fruits= []\n",
    "\n",
    "name = input(\"좋아하는 과일의 이름을 입력하시오:\")\n",
    "fruits.append(name)\n",
    "name = input(\"좋아하는 과일의 이름을 입력하시오:\")\n",
    "fruits.append(name)\n",
    "name = input(\"좋아하는 과일의 이름을 입력하시오:\")\n",
    "fruits.append(name)\n",
    "\n",
    "name = input(\"과일의 이름을 입력하시오: \")\n",
    "if name in fruits:\n",
    "    print(\"이 과일은 당신이 좋아하는 과일입니다.\")\n",
    "else:\n",
    "    print(\"이 과일은 당신이 좋아하는 과일이 아닙니다.\")"
   ]
  },
  {
   "cell_type": "code",
   "execution_count": null,
   "id": "13610232",
   "metadata": {},
   "outputs": [],
   "source": []
  }
 ],
 "metadata": {
  "kernelspec": {
   "display_name": "Python 3 (ipykernel)",
   "language": "python",
   "name": "python3"
  },
  "language_info": {
   "codemirror_mode": {
    "name": "ipython",
    "version": 3
   },
   "file_extension": ".py",
   "mimetype": "text/x-python",
   "name": "python",
   "nbconvert_exporter": "python",
   "pygments_lexer": "ipython3",
   "version": "3.11.2"
  }
 },
 "nbformat": 4,
 "nbformat_minor": 5
}
